{
 "cells": [
  {
   "cell_type": "markdown",
   "id": "b0d475e7",
   "metadata": {},
   "source": [
    "# Yêu cầu 5"
   ]
  },
  {
   "cell_type": "code",
   "execution_count": 1,
   "id": "d4a5a010",
   "metadata": {},
   "outputs": [],
   "source": [
    "import pandas as pd\n",
    "import numpy as np\n",
    "import matplotlib.pyplot as plt\n",
    "import seaborn as sns"
   ]
  },
  {
   "cell_type": "code",
   "execution_count": 18,
   "id": "29bb5b37",
   "metadata": {},
   "outputs": [
    {
     "data": {
      "text/html": [
       "<div>\n",
       "<style scoped>\n",
       "    .dataframe tbody tr th:only-of-type {\n",
       "        vertical-align: middle;\n",
       "    }\n",
       "\n",
       "    .dataframe tbody tr th {\n",
       "        vertical-align: top;\n",
       "    }\n",
       "\n",
       "    .dataframe thead th {\n",
       "        text-align: right;\n",
       "    }\n",
       "</style>\n",
       "<table border=\"1\" class=\"dataframe\">\n",
       "  <thead>\n",
       "    <tr style=\"text-align: right;\">\n",
       "      <th></th>\n",
       "      <th>AA</th>\n",
       "      <th>GOOG</th>\n",
       "    </tr>\n",
       "    <tr>\n",
       "      <th>Time</th>\n",
       "      <th></th>\n",
       "      <th></th>\n",
       "    </tr>\n",
       "  </thead>\n",
       "  <tbody>\n",
       "    <tr>\n",
       "      <th>2017-01-01</th>\n",
       "      <td>36.268166</td>\n",
       "      <td>796.789978</td>\n",
       "    </tr>\n",
       "    <tr>\n",
       "      <th>2017-01-04</th>\n",
       "      <td>33.561737</td>\n",
       "      <td>905.960022</td>\n",
       "    </tr>\n",
       "    <tr>\n",
       "      <th>2017-01-08</th>\n",
       "      <td>43.661102</td>\n",
       "      <td>939.330017</td>\n",
       "    </tr>\n",
       "    <tr>\n",
       "      <th>2017-01-12</th>\n",
       "      <td>53.601265</td>\n",
       "      <td>1046.400024</td>\n",
       "    </tr>\n",
       "    <tr>\n",
       "      <th>2018-01-01</th>\n",
       "      <td>51.760494</td>\n",
       "      <td>1169.939941</td>\n",
       "    </tr>\n",
       "  </tbody>\n",
       "</table>\n",
       "</div>"
      ],
      "text/plain": [
       "                   AA         GOOG\n",
       "Time                              \n",
       "2017-01-01  36.268166   796.789978\n",
       "2017-01-04  33.561737   905.960022\n",
       "2017-01-08  43.661102   939.330017\n",
       "2017-01-12  53.601265  1046.400024\n",
       "2018-01-01  51.760494  1169.939941"
      ]
     },
     "execution_count": 18,
     "metadata": {},
     "output_type": "execute_result"
    }
   ],
   "source": [
    "stock_df = pd.read_csv ('Data_Demo.csv', index_col =['Time'], parse_dates=True)\n",
    "stock_df.head()\n",
    "\n",
    "#index_col = ['Chỉ tiêu']: có thể được sử dụng để buộc Pandas sử dụng cột đầu tiên làm chỉ mục\n",
    "#parse_dates: định dạng cột là ngày"
   ]
  },
  {
   "cell_type": "code",
   "execution_count": 3,
   "id": "719144bc",
   "metadata": {},
   "outputs": [
    {
     "data": {
      "text/html": [
       "<div>\n",
       "<style scoped>\n",
       "    .dataframe tbody tr th:only-of-type {\n",
       "        vertical-align: middle;\n",
       "    }\n",
       "\n",
       "    .dataframe tbody tr th {\n",
       "        vertical-align: top;\n",
       "    }\n",
       "\n",
       "    .dataframe thead th {\n",
       "        text-align: right;\n",
       "    }\n",
       "</style>\n",
       "<table border=\"1\" class=\"dataframe\">\n",
       "  <thead>\n",
       "    <tr style=\"text-align: right;\">\n",
       "      <th></th>\n",
       "      <th>AA</th>\n",
       "      <th>GOOG</th>\n",
       "    </tr>\n",
       "    <tr>\n",
       "      <th>Time</th>\n",
       "      <th></th>\n",
       "      <th></th>\n",
       "    </tr>\n",
       "  </thead>\n",
       "  <tbody>\n",
       "    <tr>\n",
       "      <th>2017-01-01</th>\n",
       "      <td>NaN</td>\n",
       "      <td>NaN</td>\n",
       "    </tr>\n",
       "    <tr>\n",
       "      <th>2017-01-04</th>\n",
       "      <td>-0.074623</td>\n",
       "      <td>0.137012</td>\n",
       "    </tr>\n",
       "    <tr>\n",
       "      <th>2017-01-08</th>\n",
       "      <td>0.300919</td>\n",
       "      <td>0.036834</td>\n",
       "    </tr>\n",
       "    <tr>\n",
       "      <th>2017-01-12</th>\n",
       "      <td>0.227666</td>\n",
       "      <td>0.113986</td>\n",
       "    </tr>\n",
       "    <tr>\n",
       "      <th>2018-01-01</th>\n",
       "      <td>-0.034342</td>\n",
       "      <td>0.118062</td>\n",
       "    </tr>\n",
       "    <tr>\n",
       "      <th>2018-01-04</th>\n",
       "      <td>-0.015763</td>\n",
       "      <td>-0.130443</td>\n",
       "    </tr>\n",
       "    <tr>\n",
       "      <th>2018-01-08</th>\n",
       "      <td>-0.127539</td>\n",
       "      <td>0.197438</td>\n",
       "    </tr>\n",
       "    <tr>\n",
       "      <th>2018-01-12</th>\n",
       "      <td>-0.404970</td>\n",
       "      <td>-0.149878</td>\n",
       "    </tr>\n",
       "    <tr>\n",
       "      <th>2019-01-01</th>\n",
       "      <td>0.116629</td>\n",
       "      <td>0.077983</td>\n",
       "    </tr>\n",
       "    <tr>\n",
       "      <th>2019-01-04</th>\n",
       "      <td>-0.101078</td>\n",
       "      <td>0.064593</td>\n",
       "    </tr>\n",
       "    <tr>\n",
       "      <th>2019-01-08</th>\n",
       "      <td>-0.327961</td>\n",
       "      <td>-0.000320</td>\n",
       "    </tr>\n",
       "    <tr>\n",
       "      <th>2019-01-12</th>\n",
       "      <td>0.199665</td>\n",
       "      <td>0.125343</td>\n",
       "    </tr>\n",
       "    <tr>\n",
       "      <th>2020-01-01</th>\n",
       "      <td>-0.351464</td>\n",
       "      <td>0.072706</td>\n",
       "    </tr>\n",
       "    <tr>\n",
       "      <th>2020-01-04</th>\n",
       "      <td>-0.415771</td>\n",
       "      <td>-0.059663</td>\n",
       "    </tr>\n",
       "    <tr>\n",
       "      <th>2020-01-08</th>\n",
       "      <td>0.793865</td>\n",
       "      <td>0.211706</td>\n",
       "    </tr>\n",
       "    <tr>\n",
       "      <th>2020-01-12</th>\n",
       "      <td>0.576607</td>\n",
       "      <td>0.072024</td>\n",
       "    </tr>\n",
       "    <tr>\n",
       "      <th>2021-01-01</th>\n",
       "      <td>-0.219089</td>\n",
       "      <td>0.047869</td>\n",
       "    </tr>\n",
       "    <tr>\n",
       "      <th>2021-01-04</th>\n",
       "      <td>1.035555</td>\n",
       "      <td>0.312888</td>\n",
       "    </tr>\n",
       "    <tr>\n",
       "      <th>2021-01-08</th>\n",
       "      <td>0.210972</td>\n",
       "      <td>0.207093</td>\n",
       "    </tr>\n",
       "    <tr>\n",
       "      <th>2021-01-12</th>\n",
       "      <td>0.345732</td>\n",
       "      <td>-0.005379</td>\n",
       "    </tr>\n",
       "  </tbody>\n",
       "</table>\n",
       "</div>"
      ],
      "text/plain": [
       "                  AA      GOOG\n",
       "Time                          \n",
       "2017-01-01       NaN       NaN\n",
       "2017-01-04 -0.074623  0.137012\n",
       "2017-01-08  0.300919  0.036834\n",
       "2017-01-12  0.227666  0.113986\n",
       "2018-01-01 -0.034342  0.118062\n",
       "2018-01-04 -0.015763 -0.130443\n",
       "2018-01-08 -0.127539  0.197438\n",
       "2018-01-12 -0.404970 -0.149878\n",
       "2019-01-01  0.116629  0.077983\n",
       "2019-01-04 -0.101078  0.064593\n",
       "2019-01-08 -0.327961 -0.000320\n",
       "2019-01-12  0.199665  0.125343\n",
       "2020-01-01 -0.351464  0.072706\n",
       "2020-01-04 -0.415771 -0.059663\n",
       "2020-01-08  0.793865  0.211706\n",
       "2020-01-12  0.576607  0.072024\n",
       "2021-01-01 -0.219089  0.047869\n",
       "2021-01-04  1.035555  0.312888\n",
       "2021-01-08  0.210972  0.207093\n",
       "2021-01-12  0.345732 -0.005379"
      ]
     },
     "execution_count": 3,
     "metadata": {},
     "output_type": "execute_result"
    }
   ],
   "source": [
    "#Phần trăm (%) lợi nhuận thay đổi của 2 mã AA, GOOG\n",
    "r = stock_df.apply(pd.to_numeric, errors='coerce').pct_change()\n",
    "r\n",
    "\n",
    "#pd.to_numeric: chuyển chuỗi ký tự thành chuỗi số \n",
    "#errors='coerce': "
   ]
  },
  {
   "cell_type": "code",
   "execution_count": 4,
   "id": "868217df",
   "metadata": {},
   "outputs": [
    {
     "data": {
      "text/plain": [
       "AA      0.001179\n",
       "GOOG    0.000985\n",
       "dtype: float64"
      ]
     },
     "execution_count": 4,
     "metadata": {},
     "output_type": "execute_result"
    }
   ],
   "source": [
    "#Lợi nhuận kỳ vọng\n",
    "e_r = stock_df.resample('D').last().pct_change().mean()\n",
    "e_r"
   ]
  },
  {
   "cell_type": "code",
   "execution_count": 5,
   "id": "baf605da",
   "metadata": {},
   "outputs": [
    {
     "data": {
      "text/plain": [
       "AA      0.160331\n",
       "GOOG    0.013489\n",
       "dtype: float64"
      ]
     },
     "execution_count": 5,
     "metadata": {},
     "output_type": "execute_result"
    }
   ],
   "source": [
    "#Phương sai\n",
    "var_r = r.var()\n",
    "var_r"
   ]
  },
  {
   "cell_type": "code",
   "execution_count": 6,
   "id": "77fe2169",
   "metadata": {},
   "outputs": [
    {
     "data": {
      "text/plain": [
       "AA      0.400414\n",
       "GOOG    0.116144\n",
       "dtype: float64"
      ]
     },
     "execution_count": 6,
     "metadata": {},
     "output_type": "execute_result"
    }
   ],
   "source": [
    "#Độ lệch chuẩn\n",
    "r_vol = np.sqrt(var_r)\n",
    "r_vol"
   ]
  },
  {
   "cell_type": "code",
   "execution_count": 7,
   "id": "6a387263",
   "metadata": {},
   "outputs": [
    {
     "data": {
      "text/html": [
       "<div>\n",
       "<style scoped>\n",
       "    .dataframe tbody tr th:only-of-type {\n",
       "        vertical-align: middle;\n",
       "    }\n",
       "\n",
       "    .dataframe tbody tr th {\n",
       "        vertical-align: top;\n",
       "    }\n",
       "\n",
       "    .dataframe thead th {\n",
       "        text-align: right;\n",
       "    }\n",
       "</style>\n",
       "<table border=\"1\" class=\"dataframe\">\n",
       "  <thead>\n",
       "    <tr style=\"text-align: right;\">\n",
       "      <th></th>\n",
       "      <th>AA</th>\n",
       "      <th>GOOG</th>\n",
       "    </tr>\n",
       "  </thead>\n",
       "  <tbody>\n",
       "    <tr>\n",
       "      <th>AA</th>\n",
       "      <td>0.129167</td>\n",
       "      <td>0.024021</td>\n",
       "    </tr>\n",
       "    <tr>\n",
       "      <th>GOOG</th>\n",
       "      <td>0.024021</td>\n",
       "      <td>0.012134</td>\n",
       "    </tr>\n",
       "  </tbody>\n",
       "</table>\n",
       "</div>"
      ],
      "text/plain": [
       "            AA      GOOG\n",
       "AA    0.129167  0.024021\n",
       "GOOG  0.024021  0.012134"
      ]
     },
     "execution_count": 7,
     "metadata": {},
     "output_type": "execute_result"
    }
   ],
   "source": [
    "#Ma trận hiệp phương sai\n",
    "cov_matrix = stock_df.pct_change().apply(lambda x: np.log(1+x)).cov()\n",
    "cov_matrix"
   ]
  },
  {
   "cell_type": "code",
   "execution_count": 8,
   "id": "4f64689f",
   "metadata": {},
   "outputs": [],
   "source": [
    "p_ret = [] # Xác định một mảng lợi nhuận trống để trả về danh mục đầu tư\n",
    "p_vol = [] # Xác định một mảng độ lệch chuẩn trống cho sự biến động của danh mục đầu tư\n",
    "p_weights = [] # Xác định một mảng trống cho trọng số của danh mục đầu tư\n",
    "\n",
    "num_assets = len(stock_df.columns)\n",
    "num_portfolios = 1000 #Giới hạn số phần tử của danh mục đầu tư là 1000\n",
    "for portfolio in range(num_portfolios):\n",
    "    weights = np.random.random(num_assets)\n",
    "    weights = weights/np.sum(weights)\n",
    "    p_weights.append(weights)\n",
    "    returns = np.dot(weights, e_r) # Lợi nhuận là tích số của lợi nhuận kỳ vọng của từng tài sản và trọng số của nó \n",
    "    p_ret.append(returns)\n",
    "    var = cov_matrix.mul(weights, axis=0).mul(weights, axis=1).sum().sum() # Phương sai danh mục đầu tư\n",
    "    sd = np.sqrt(var) # Độ lệch chuẩn hằng quý\n",
    "    p_vol.append(sd)"
   ]
  },
  {
   "cell_type": "code",
   "execution_count": 9,
   "id": "be82c463",
   "metadata": {},
   "outputs": [
    {
     "data": {
      "text/html": [
       "<div>\n",
       "<style scoped>\n",
       "    .dataframe tbody tr th:only-of-type {\n",
       "        vertical-align: middle;\n",
       "    }\n",
       "\n",
       "    .dataframe tbody tr th {\n",
       "        vertical-align: top;\n",
       "    }\n",
       "\n",
       "    .dataframe thead th {\n",
       "        text-align: right;\n",
       "    }\n",
       "</style>\n",
       "<table border=\"1\" class=\"dataframe\">\n",
       "  <thead>\n",
       "    <tr style=\"text-align: right;\">\n",
       "      <th></th>\n",
       "      <th>Returns</th>\n",
       "      <th>Volatility</th>\n",
       "      <th>AA weight</th>\n",
       "      <th>GOOG weight</th>\n",
       "    </tr>\n",
       "  </thead>\n",
       "  <tbody>\n",
       "    <tr>\n",
       "      <th>0</th>\n",
       "      <td>0.001036</td>\n",
       "      <td>0.157345</td>\n",
       "      <td>0.261906</td>\n",
       "      <td>0.738094</td>\n",
       "    </tr>\n",
       "    <tr>\n",
       "      <th>1</th>\n",
       "      <td>0.001099</td>\n",
       "      <td>0.241773</td>\n",
       "      <td>0.588729</td>\n",
       "      <td>0.411271</td>\n",
       "    </tr>\n",
       "    <tr>\n",
       "      <th>2</th>\n",
       "      <td>0.001112</td>\n",
       "      <td>0.259756</td>\n",
       "      <td>0.653331</td>\n",
       "      <td>0.346669</td>\n",
       "    </tr>\n",
       "    <tr>\n",
       "      <th>3</th>\n",
       "      <td>0.001074</td>\n",
       "      <td>0.206532</td>\n",
       "      <td>0.458650</td>\n",
       "      <td>0.541350</td>\n",
       "    </tr>\n",
       "    <tr>\n",
       "      <th>4</th>\n",
       "      <td>0.001047</td>\n",
       "      <td>0.171238</td>\n",
       "      <td>0.320374</td>\n",
       "      <td>0.679626</td>\n",
       "    </tr>\n",
       "  </tbody>\n",
       "</table>\n",
       "</div>"
      ],
      "text/plain": [
       "    Returns  Volatility  AA weight  GOOG weight\n",
       "0  0.001036    0.157345   0.261906     0.738094\n",
       "1  0.001099    0.241773   0.588729     0.411271\n",
       "2  0.001112    0.259756   0.653331     0.346669\n",
       "3  0.001074    0.206532   0.458650     0.541350\n",
       "4  0.001047    0.171238   0.320374     0.679626"
      ]
     },
     "execution_count": 9,
     "metadata": {},
     "output_type": "execute_result"
    }
   ],
   "source": [
    "# Tạo khung dữ liệu cho danh mục đầu tư\n",
    "data = {'Returns':p_ret, 'Volatility':p_vol}\n",
    "\n",
    "for counter, symbol in enumerate(stock_df.columns.tolist()):\n",
    "    #print(counter, symbol)\n",
    "    data[symbol+' weight'] = [w[counter] for w in p_weights]\n",
    "portfolios  = pd.DataFrame(data)\n",
    "portfolios.head() "
   ]
  },
  {
   "cell_type": "code",
   "execution_count": 21,
   "id": "860a0076",
   "metadata": {},
   "outputs": [
    {
     "data": {
      "text/plain": [
       "[Text(0.5, 1.0, 'ĐƯỜNG CONG HIỆU QUẢ')]"
      ]
     },
     "execution_count": 21,
     "metadata": {},
     "output_type": "execute_result"
    },
    {
     "data": {
      "image/png": "[encoded data removed]",
      "text/plain": [
       "<Figure size 1080x720 with 1 Axes>"
      ]
     },
     "metadata": {
      "needs_background": "light"
     },
     "output_type": "display_data"
    }
   ],
   "source": [
    "# Vẽ đường biên hiệu quả\n",
    "portfolios.plot.scatter(x='Volatility', y='Returns', marker='o', s=10, \n",
    "                        alpha=0.3, grid=True, figsize=[15,10]).set(title = 'ĐƯỜNG CONG HIỆU QUẢ')"
   ]
  },
  {
   "cell_type": "code",
   "execution_count": 24,
   "id": "3a2d426f",
   "metadata": {},
   "outputs": [
    {
     "data": {
      "text/plain": [
       "Returns        0.000985\n",
       "Volatility     0.110167\n",
       "AA weight      0.000132\n",
       "GOOG weight    0.999868\n",
       "Name: 6727, dtype: float64"
      ]
     },
     "execution_count": 24,
     "metadata": {},
     "output_type": "execute_result"
    }
   ],
   "source": [
    "min_vol_port = portfolios.iloc[portfolios['Volatility'].idxmin()]\n",
    "# idxmin () cho biết giá trị nhỏ nhất trong cột được chỉ định.                              \n",
    "min_vol_port"
   ]
  },
  {
   "cell_type": "code",
   "execution_count": null,
   "id": "62fbbf1e",
   "metadata": {},
   "outputs": [],
   "source": []
  }
 ],
 "metadata": {
  "kernelspec": {
   "display_name": "Python 3 (ipykernel)",
   "language": "python",
   "name": "python3"
  },
  "language_info": {
   "codemirror_mode": {
    "name": "ipython",
    "version": 3
   },
   "file_extension": ".py",
   "mimetype": "text/x-python",
   "name": "python",
   "nbconvert_exporter": "python",
   "pygments_lexer": "ipython3",
   "version": "3.10.5"
  }
 },
 "nbformat": 4,
 "nbformat_minor": 5
}
